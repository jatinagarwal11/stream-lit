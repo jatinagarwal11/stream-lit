{
 "cells": [
  {
   "cell_type": "markdown",
   "id": "86328aa1-9925-411f-ac83-db05e753749c",
   "metadata": {},
   "source": [
    "## when you add a ! point when you write in  a notebook its is like a magic command and run it in the command line "
   ]
  },
  {
   "cell_type": "code",
   "execution_count": null,
   "id": "30acd301-d08f-42d1-83b4-8861c589c22c",
   "metadata": {},
   "outputs": [],
   "source": []
  }
 ],
 "metadata": {
  "kernelspec": {
   "display_name": "Python 3 (ipykernel)",
   "language": "python",
   "name": "python3"
  },
  "language_info": {
   "codemirror_mode": {
    "name": "ipython",
    "version": 3
   },
   "file_extension": ".py",
   "mimetype": "text/x-python",
   "name": "python",
   "nbconvert_exporter": "python",
   "pygments_lexer": "ipython3",
   "version": "3.12.4"
  }
 },
 "nbformat": 4,
 "nbformat_minor": 5
}
